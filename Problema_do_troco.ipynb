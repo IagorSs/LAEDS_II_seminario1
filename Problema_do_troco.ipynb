{
 "cells": [
  {
   "cell_type": "markdown",
   "metadata": {},
   "source": [
    "# Problema do troco\n",
    "\n",
    "**Grupo:**\n",
    "Arthur Lopes Sabioni;<br>\n",
    "Maria Izamara Clara da Silva Coutinho;<br>\n",
    "Iagor de Sousa Penaranda Silva;<br>\n",
    "Julia Bindi Alencar de Jesus;<br>\n",
    "Pablo Henrique Santos.<br>\n"
   ]
  },
  {
   "cell_type": "markdown",
   "metadata": {},
   "source": [
    "# Teste da função de quantidade de moedas.\n"
   ]
  },
  {
   "cell_type": "markdown",
   "metadata": {},
   "source": [
    "**Teste 1: Quantidade de moedas para um montante qualquer**: \n",
    "Nesse teste é utilizado a função `calculaTroco`, que recebe como parametros uma `lista_valores_moedas`, contendo uma lista com os valores possiveis para troco, `troco` sendo o montante, `min_moedas` um vetor alocado com uma quantidade suficientemente para suportar a quantidade de moedas para um troco, e `moedas_usadas` que possui as moedas que serão definidas na função."
   ]
  },
  {
   "cell_type": "code",
   "execution_count": 1,
   "metadata": {},
   "outputs": [
    {
     "name": "stderr",
     "output_type": "stream",
     "text": [
      ".\n",
      "----------------------------------------------------------------------\n",
      "Ran 1 test in 0.001s\n",
      "\n",
      "OK\n"
     ]
    }
   ],
   "source": [
    "!python3 -m troco_teste TesteTroco.teste_quantidade_moedas"
   ]
  },
  {
   "cell_type": "markdown",
   "metadata": {},
   "source": [
    "# Teste da função de moedas do troco"
   ]
  },
  {
   "cell_type": "markdown",
   "metadata": {},
   "source": [
    "**Teste 2: Troco gerado para um montante qualquer**: \n",
    "Nesse teste é utilizado a função `moedasResultantes`, que recebe como parâmetros uma `lista_moedas`, contendo uma lista com os valores possiveis para troco, e `montante` que fornece o troco que deve ser gerado como uma lista ordenada de forma crescente dos valores de troco.\n"
   ]
  },
  {
   "cell_type": "code",
   "execution_count": 2,
   "metadata": {},
   "outputs": [
    {
     "name": "stderr",
     "output_type": "stream",
     "text": [
      ".\n",
      "----------------------------------------------------------------------\n",
      "Ran 1 test in 0.004s\n",
      "\n",
      "OK\n"
     ]
    }
   ],
   "source": [
    "!python3 -m troco_teste TesteTroco.teste_moedas_resultantes"
   ]
  },
  {
   "cell_type": "markdown",
   "metadata": {},
   "source": [
    "# Teste de aplicação "
   ]
  },
  {
   "cell_type": "markdown",
   "metadata": {},
   "source": [
    "**Teste 3: Aplicação do problema para o saque de um salário minimo em 2020**: \n",
    "Em 2020 o salário mínimo no Brasil era de R$1039. Sabendo que as notas possíveis para um saque desse salário são: 2,5,10,20,50,100,200. Utilizando as funções dos testes funcionando corretamente, podemos obter a distribuição das notas do troco e a quantidade de notas."
   ]
  },
  {
   "cell_type": "code",
   "execution_count": 3,
   "metadata": {},
   "outputs": [
    {
     "name": "stderr",
     "output_type": "stream",
     "text": [
      ".\n",
      "----------------------------------------------------------------------\n",
      "Ran 1 test in 0.002s\n",
      "\n",
      "OK\n"
     ]
    }
   ],
   "source": [
    "!python3 -m troco_teste TesteTroco.teste_aplicacao_salario_minimo_2020"
   ]
  }
 ],
 "metadata": {
  "kernelspec": {
   "display_name": "Python 3",
   "language": "python",
   "name": "python3"
  },
  "language_info": {
   "codemirror_mode": {
    "name": "ipython",
    "version": 3
   },
   "file_extension": ".py",
   "mimetype": "text/x-python",
   "name": "python",
   "nbconvert_exporter": "python",
   "pygments_lexer": "ipython3",
   "version": "3.8.7"
  }
 },
 "nbformat": 4,
 "nbformat_minor": 4
}
