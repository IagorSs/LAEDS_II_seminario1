{
 "metadata": {
  "language_info": {
   "codemirror_mode": {
    "name": "ipython",
    "version": 3
   },
   "file_extension": ".py",
   "mimetype": "text/x-python",
   "name": "python",
   "nbconvert_exporter": "python",
   "pygments_lexer": "ipython3",
   "version": 3
  },
  "orig_nbformat": 2
 },
 "nbformat": 4,
 "nbformat_minor": 2,
 "cells": [
  {
   "source": [
    "Grupo: \n",
    "Arthur Lopes Sabioni; \n",
    "Maria Izamara Clara da Silva Coutinho;\n",
    "Iagor de Sousa Penaranda Silva;\n",
    "Julia Bindi Alencar de Jesus;\n",
    "Pablo Henrique Santos."
   ],
   "cell_type": "markdown",
   "metadata": {}
  }
 ]
}